{
  "cells": [
    {
      "cell_type": "markdown",
      "metadata": {
        "colab_type": "text",
        "id": "view-in-github"
      },
      "source": [
        "<a href=\"https://colab.research.google.com/github/ZachryRamkissoon/COMP-3610-Project/blob/main/COMP_3610_Project.ipynb\" target=\"_parent\"><img src=\"https://colab.research.google.com/assets/colab-badge.svg\" alt=\"Open In Colab\"/></a>"
      ]
    },
    {
      "cell_type": "markdown",
      "metadata": {
        "id": "Ls4a_USPOald"
      },
      "source": [
        "Import Libraries"
      ]
    },
    {
      "cell_type": "code",
      "execution_count": 1,
      "metadata": {
        "id": "x7MCMPm7OeKu"
      },
      "outputs": [],
      "source": [
        "import pandas as pd\n",
        "import re\n",
        "import unicodedata"
      ]
    },
    {
      "cell_type": "markdown",
      "metadata": {
        "id": "xHTztbYGOg1b"
      },
      "source": [
        "#Data Collection\n",
        "Load the first CSV file containing years 2000-2024"
      ]
    },
    {
      "cell_type": "code",
      "execution_count": 2,
      "metadata": {
        "id": "9xCWgzTsPF6_"
      },
      "outputs": [],
      "source": [
        "try:\n",
        "    df_spotify = pd.read_csv('billboard_24years_lyrics_spotify.csv', encoding='utf-8')\n",
        "except UnicodeDecodeError:\n",
        "    df_spotify = pd.read_csv('billboard_24years_lyrics_spotify.csv', encoding='latin1')"
      ]
    },
    {
      "cell_type": "markdown",
      "metadata": {
        "id": "Zu0rFqJCSDWl"
      },
      "source": [
        "Load the second CSV file containing years 1964-2015"
      ]
    },
    {
      "cell_type": "code",
      "execution_count": 3,
      "metadata": {
        "id": "N9fzRpZCSDsH"
      },
      "outputs": [],
      "source": [
        "try:\n",
        "    df_1964_2015 = pd.read_csv('billboard_lyrics_1964-2015.csv', encoding='utf-8')\n",
        "except UnicodeDecodeError:\n",
        "    df_1964_2015 = pd.read_csv('billboard_lyrics_1964-2015.csv', encoding='latin1')"
      ]
    },
    {
      "cell_type": "markdown",
      "metadata": {
        "id": "7ZynI2YnTZ0T"
      },
      "source": [
        "#Data Preprocessing"
      ]
    },
    {
      "cell_type": "markdown",
      "metadata": {
        "id": "DSqaVEJDPJ_S"
      },
      "source": [
        "Filter for years 2016 to 2024"
      ]
    },
    {
      "cell_type": "code",
      "execution_count": 4,
      "metadata": {
        "id": "D-VjTYOhPKJd"
      },
      "outputs": [],
      "source": [
        "df_spotify_filtered = df_spotify[df_spotify['year'].between(2016, 2024)].copy()"
      ]
    },
    {
      "cell_type": "markdown",
      "metadata": {
        "id": "BReRcbzmPSRc"
      },
      "source": [
        "Remove duplicate records based on all columns"
      ]
    },
    {
      "cell_type": "code",
      "execution_count": 5,
      "metadata": {
        "id": "dTMl-vioQVQz"
      },
      "outputs": [],
      "source": [
        "df_spotify_filtered = df_spotify_filtered.drop_duplicates()"
      ]
    },
    {
      "cell_type": "markdown",
      "metadata": {
        "id": "v31qzSClQcFi"
      },
      "source": [
        "Function to clean lyrics"
      ]
    },
    {
      "cell_type": "code",
      "execution_count": 6,
      "metadata": {
        "id": "xQQ_hUEJQbGn"
      },
      "outputs": [],
      "source": [
        "def clean_lyrics_ascii(text):\n",
        "    if pd.isna(text):  # Handle missing values\n",
        "        return ''\n",
        "    text = text.lower() # Convert to lowercase\n",
        "\n",
        "    text = re.sub(r'[^\\x00-\\x7F]+', ' ', text) # Remove non-ASCII characters\n",
        "\n",
        "    text = re.sub(r'\\s*\\'\\s*', '', text) # Remove apostrophes and merge contractions\n",
        "\n",
        "    text = re.sub(r'[^a-z0-9\\s]', ' ', text) # Remove all punctuation except spaces, keep letters and numbers\n",
        "\n",
        "    text = re.sub(r'\\d+embed$', '', text) # Remove number followed by \"embed\" at the end\n",
        "\n",
        "    text = re.sub(r'\\s+', ' ', text).strip() # Replace multiple spaces with a single space and remove leading/trailing whitespace\n",
        "\n",
        "    return text\n",
        "\n",
        "df_spotify_filtered['lyrics_cleaned'] = df_spotify_filtered['lyrics'].apply(clean_lyrics_ascii)"
      ]
    },
    {
      "cell_type": "markdown",
      "metadata": {
        "id": "7SfBhgKdRU50"
      },
      "source": [
        "Select and rename columns for consistency"
      ]
    },
    {
      "cell_type": "code",
      "execution_count": 7,
      "metadata": {
        "id": "TC3idw3CRVxQ"
      },
      "outputs": [],
      "source": [
        "df_spotify_cleaned = df_spotify_filtered[['song', 'band_singer', 'year', 'ranking', 'lyrics_cleaned']]\n",
        "\n",
        "df_spotify_cleaned = df_spotify_cleaned.rename(columns={\n",
        "    'band_singer': 'artist'\n",
        "})"
      ]
    },
    {
      "cell_type": "markdown",
      "metadata": {
        "id": "F4Cwhi7oS85r"
      },
      "source": [
        "Rename columns to match the first dataset"
      ]
    },
    {
      "cell_type": "code",
      "execution_count": 8,
      "metadata": {
        "id": "DOLWBsW8S94O"
      },
      "outputs": [],
      "source": [
        "df_1964_2015 = df_1964_2015.rename(columns={\n",
        "    'Song': 'song',\n",
        "    'Artist': 'artist',\n",
        "    'Year': 'year',\n",
        "    'Rank': 'ranking',\n",
        "    'Lyrics': 'lyrics_cleaned'\n",
        "})"
      ]
    },
    {
      "cell_type": "markdown",
      "metadata": {
        "id": "k-DnFr28TBz3"
      },
      "source": [
        "Select only the required columns"
      ]
    },
    {
      "cell_type": "code",
      "execution_count": 9,
      "metadata": {
        "id": "2B30YuytTCBh"
      },
      "outputs": [],
      "source": [
        "df_1964_2015_cleaned = df_1964_2015[['song', 'artist', 'year', 'ranking', 'lyrics_cleaned']]"
      ]
    },
    {
      "cell_type": "markdown",
      "metadata": {
        "id": "DEfcr1qZTj1Q"
      },
      "source": [
        "Combine the datasets"
      ]
    },
    {
      "cell_type": "code",
      "execution_count": 10,
      "metadata": {
        "id": "ee96PwPRTkNl"
      },
      "outputs": [],
      "source": [
        "df_combined = pd.concat([df_1964_2015_cleaned, df_spotify_cleaned], ignore_index=True)"
      ]
    },
    {
      "cell_type": "markdown",
      "metadata": {
        "id": "lvdp6KE7T-01"
      },
      "source": [
        "Remove duplicates across the combined dataset (based on all columns)"
      ]
    },
    {
      "cell_type": "code",
      "execution_count": 11,
      "metadata": {
        "id": "B9gPml7mT_EX"
      },
      "outputs": [],
      "source": [
        "df_combined = df_combined.drop_duplicates()"
      ]
    },
    {
      "cell_type": "markdown",
      "metadata": {
        "id": "uF3GhtMmU0u8"
      },
      "source": [
        "Inspect the first few rows of the combined DataFrame"
      ]
    },
    {
      "cell_type": "code",
      "execution_count": 12,
      "metadata": {
        "colab": {
          "base_uri": "https://localhost:8080/"
        },
        "id": "O-f9ISgmU1BV",
        "outputId": "baddb1cc-cc4d-430a-8448-826720e2336b"
      },
      "outputs": [
        {
          "name": "stdout",
          "output_type": "stream",
          "text": [
            "Combined Cleaned DataFrame (First 5 rows):\n",
            "                                       song                         artist  \\\n",
            "0                               wooly bully  sam the sham and the pharaohs   \n",
            "1  i cant help myself sugar pie honey bunch                      four tops   \n",
            "2                i cant get no satisfaction             the rolling stones   \n",
            "3                       you were on my mind                        we five   \n",
            "4              youve lost that lovin feelin         the righteous brothers   \n",
            "\n",
            "   year  ranking                                     lyrics_cleaned  \n",
            "0  1965        1  sam the sham miscellaneous wooly bully wooly b...  \n",
            "1  1965        2   sugar pie honey bunch you know that i love yo...  \n",
            "2  1965        3                                                     \n",
            "3  1965        4   when i woke up this morning you were on my mi...  \n",
            "4  1965        5   you never close your eyes anymore when i kiss...  \n",
            "\n",
            "Original vs Cleaned Lyrics (First 5 rows from 2016-2024 data):\n",
            "Song: Love Yourself (Year: 2016, Rank: 1)\n",
            "Original: \n",
            "For all the times that you rained on my parade\n",
            "And all the clubs you get in using my name\n",
            "You think you broke my heart, oh girl, for goodness' sake\n",
            "You think I'm cryin' on my own, well, I ain't\n",
            "\n",
            "And I didn't wanna write a song\n",
            "'Cause I didn't want anyone thinking I still care\n",
            "I don't, but you still hit my phone up\n",
            "And baby, I'll be movin' on\n",
            "And I think you should be somethin' I don't wanna hold back\n",
            "Maybe you should know that\n",
            "\n",
            "My mama don't like you and she likes everyone\n",
            "And I never like to admit that I was wrong\n",
            "And I've been so caught up in my job, didn't see what's going on\n",
            "But now I know, I'm better sleeping on my own\n",
            "\n",
            "'Cause if you like the way you look that much\n",
            "Oh baby, you should go and love yourself\n",
            "And if you think that I'm still holdin' on to somethin'\n",
            "You should go and love yourself\n",
            "You might also like\n",
            "But when you told me that you hated my friends\n",
            "The only problem was with you and not them\n",
            "And every time you told me my opinion was wrong\n",
            "And tried to make me forget where I came from\n",
            "\n",
            "And I didn't wanna write a song\n",
            "'Cause I didn't want anyone thinking I still care\n",
            "I don't, but you still hit my phone up\n",
            "And baby, I'll be movin' on\n",
            "And I think you should be somethin' I don't wanna hold back\n",
            "Maybe you should know that\n",
            "\n",
            "My mama don't like you and she likes everyone\n",
            "And I never like to admit that I was wrong\n",
            "And I've been so caught up in my job, didn't see what's going on\n",
            "But now I know, I'm better sleeping on my own\n",
            "\n",
            "'Cause if you like the way you look that much\n",
            "Oh baby, you should go and love yourself\n",
            "And if you think that I'm still holdin' on to somethin'\n",
            "You should go and love yourself\n",
            "For all the times that you made me feel small\n",
            "I fell in love, now I feel nothin' at all\n",
            "I never felt so low and I was vulnerable\n",
            "Was I a fool to let you break down my walls?\n",
            "\n",
            "'Cause if you like the way you look that much\n",
            "Oh baby, you should go and love yourself\n",
            "And if you think that I'm still holdin' on to somethin'\n",
            "You should go and love yourself\n",
            "'Cause if you like the way you look that much\n",
            "Oh baby, you should go and love yourself\n",
            "And if you think that I'm still holdin' on to somethin'\n",
            "You should go and love yourself150Embed\n",
            "Cleaned: for all the times that you rained on my parade and all the clubs you get in using my name you think you broke my heart oh girl for goodnesssake you think im cryinon my own well i aint and i didnt wanna write a songcause i didnt want anyone thinking i still care i dont but you still hit my phone up and baby ill be movinon and i think you should be somethini dont wanna hold back maybe you should know that my mama dont like you and she likes everyone and i never like to admit that i was wrong and ive been so caught up in my job didnt see whats going on but now i know im better sleeping on my owncause if you like the way you look that much oh baby you should go and love yourself and if you think that im still holdinon to somethinyou should go and love yourself you might also like but when you told me that you hated my friends the only problem was with you and not them and every time you told me my opinion was wrong and tried to make me forget where i came from and i didnt wanna write a songcause i didnt want anyone thinking i still care i dont but you still hit my phone up and baby ill be movinon and i think you should be somethini dont wanna hold back maybe you should know that my mama dont like you and she likes everyone and i never like to admit that i was wrong and ive been so caught up in my job didnt see whats going on but now i know im better sleeping on my owncause if you like the way you look that much oh baby you should go and love yourself and if you think that im still holdinon to somethinyou should go and love yourself for all the times that you made me feel small i fell in love now i feel nothinat all i never felt so low and i was vulnerable was i a fool to let you break down my walls cause if you like the way you look that much oh baby you should go and love yourself and if you think that im still holdinon to somethinyou should go and love yourselfcause if you like the way you look that much oh baby you should go and love yourself and if you think that im still holdinon to somethinyou should go and love yourself\n",
            "--------------------------------------------------\n",
            "Song: Sorry (Year: 2016, Rank: 2)\n",
            "Original: \n",
            "You gotta go and get angry at all of my honesty\n",
            "You know I try, but I don't do too well with apologies\n",
            "I hope I don't run out of time, could someone call a referee?\n",
            "'Cause I just need one more shot at forgiveness\n",
            "I know you know that I made those mistakes maybe once or twice\n",
            "And by once or twice, I mean maybe a couple of hundred times\n",
            "So let me, oh, let me redeem, oh, redeem, oh, myself tonight\n",
            "'Cause I just need one more shot at second chances\n",
            "\n",
            "Yeah, is it too late now to say sorry?\n",
            "'Cause I'm missing more than just your body\n",
            "Oh, is it too late now to say sorry?\n",
            "Yeah, I know that I let you down\n",
            "Is it too late to say I'm sorry now?\n",
            "\n",
            "I'm sorry, yeah\n",
            "Sorry, yeah\n",
            "Sorry\n",
            "Yeah, I know that I let you down\n",
            "Is it too late to say I'm sorry now?\n",
            "You might also like\n",
            "I'll take every single piece of the blame if you want me to\n",
            "But you know that there is no innocent one in this game for two\n",
            "I'll go, I'll go and then you go, you go out and spill the truth\n",
            "Can we both say the words and forget this?\n",
            "\n",
            "Yeah, is it too late now to say sorry?\n",
            "'Cause I'm missing more than just your body\n",
            "Oh, is it too late now to say sorry?\n",
            "Yeah, I know that I let you down\n",
            "Is it too late to say I'm sorry now?\n",
            "I'm not just tryna get you back on me (Oh, no, no)\n",
            "'Cause I'm missing more than just your body (Your body)\n",
            "Oh, is it too late now to say sorry?\n",
            "Yeah, I know that I let you down\n",
            "Is it too late to say I'm sorry now?\n",
            "\n",
            "I'm sorry, yeah\n",
            "Sorry, oh\n",
            "Sorry\n",
            "Yeah, I know that I let you down (I know I let you down)\n",
            "Is it too late to say I'm sorry now?\n",
            "I'm sorry, yeah\n",
            "Sorry, oh\n",
            "Sorry\n",
            "Yeah, I know that I let you down (I know I let you down)\n",
            "Is it too late to say I'm sorry now?101Embed\n",
            "Cleaned: you gotta go and get angry at all of my honesty you know i try but i dont do too well with apologies i hope i dont run out of time could someone call a referee cause i just need one more shot at forgiveness i know you know that i made those mistakes maybe once or twice and by once or twice i mean maybe a couple of hundred times so let me oh let me redeem oh redeem oh myself tonightcause i just need one more shot at second chances yeah is it too late now to say sorry cause im missing more than just your body oh is it too late now to say sorry yeah i know that i let you down is it too late to say im sorry now im sorry yeah sorry yeah sorry yeah i know that i let you down is it too late to say im sorry now you might also like ill take every single piece of the blame if you want me to but you know that there is no innocent one in this game for two ill go ill go and then you go you go out and spill the truth can we both say the words and forget this yeah is it too late now to say sorry cause im missing more than just your body oh is it too late now to say sorry yeah i know that i let you down is it too late to say im sorry now im not just tryna get you back on me oh no no cause im missing more than just your body your body oh is it too late now to say sorry yeah i know that i let you down is it too late to say im sorry now im sorry yeah sorry oh sorry yeah i know that i let you down i know i let you down is it too late to say im sorry now im sorry yeah sorry oh sorry yeah i know that i let you down i know i let you down is it too late to say im sorry now\n",
            "--------------------------------------------------\n",
            "Song: One Dance (Year: 2016, Rank: 3)\n",
            "Original: Baby, I like your style\n",
            "\n",
            "Grips on your waist, front way, back way\n",
            "You know that I don't play\n",
            "Streets not safe but I never run away\n",
            "Even when I'm away\n",
            "Oti, oti\n",
            "There's never much love when we go OT\n",
            "I pray to make it back in one piece\n",
            "I pray, I pray\n",
            "\n",
            "That's why I need a one dance\n",
            "Got a Hennessy in my hand\n",
            "One more time 'fore I go\n",
            "Higher powers taking a hold on me\n",
            "I need a one dance\n",
            "Got a Hennessy in my hand\n",
            "One more time 'fore I go\n",
            "Higher powers taking a hold on me\n",
            "Baby, I like your style\n",
            "You might also like\n",
            "Strength and guidance\n",
            "All that I'm wishing for my friends\n",
            "Nobody makes it from my ends\n",
            "I had to bust up the silence\n",
            "You know you gotta stick by me\n",
            "Soon as you see the text, reply me\n",
            "I don't wanna spend time fighting\n",
            "We've got no time, and that's why\n",
            "\n",
            "I need a one dance\n",
            "Got a Hennessy in my hand\n",
            "One more time 'fore I go\n",
            "Higher powers taking a hold on me\n",
            "I need a one dance\n",
            "Got a Hennessy in my hand\n",
            "One more time 'fore I go\n",
            "Higher powers taking a hold on me\n",
            "\n",
            "Got a pretty girl and she love me long time\n",
            "Wine it, wine it, she love me long time\n",
            "Oh, yeah, very long time\n",
            "Back up, back up, back up, and wine am\n",
            "Back up, back up, and wine am, girl, just\n",
            "Back up, back up, back up, and wine am\n",
            "Oh, yeah, very long time\n",
            "Back, up, back up and wine am, girl\n",
            "Oh, tell me, I need to know\n",
            "Where do you wanna go?\n",
            "'Cause if you're down, I'll take it slow\n",
            "Make you lose control\n",
            "\n",
            "Where, where, where\n",
            "Where, where, where, where (Oh, yeah, very long time)\n",
            "Where, where, where (Back up, back up, and wine am, girl)\n",
            "Where, where, where, where\n",
            "'Cause if you're down (Back up, back up, and–)\n",
            "'Cause if you're down (Back up, back up, and–)\n",
            "'Cause if you're down (Back up, back up, and–)\n",
            "\n",
            "I need a one dance (Where, where, where)\n",
            "Got a Hennessy in my hand (Where, where, where, where)\n",
            "One more time 'fore I go (Where)\n",
            "Higher powers taking a hold on me (Where, where, where, where)\n",
            "I need a one dance\n",
            "Got a Hennessy in my hand\n",
            "One more time 'fore I go\n",
            "Higher powers taking a hold on me\n",
            "How do you spell \"Hennessy?\"\n",
            "I put two \"N\"s and two \"S\"es, is it like that? Hen... Henn... Henn...\n",
            "It's definitely not showing up\n",
            "I know \"Hennessy\" has two \"S\"es for sure, so I'm gonna take out one of the \"N\"s234Embed\n",
            "Cleaned: baby i like your style grips on your waist front way back way you know that i dont play streets not safe but i never run away even when im away oti oti theres never much love when we go ot i pray to make it back in one piece i pray i pray thats why i need a one dance got a hennessy in my hand one more timefore i go higher powers taking a hold on me i need a one dance got a hennessy in my hand one more timefore i go higher powers taking a hold on me baby i like your style you might also like strength and guidance all that im wishing for my friends nobody makes it from my ends i had to bust up the silence you know you gotta stick by me soon as you see the text reply me i dont wanna spend time fighting weve got no time and thats why i need a one dance got a hennessy in my hand one more timefore i go higher powers taking a hold on me i need a one dance got a hennessy in my hand one more timefore i go higher powers taking a hold on me got a pretty girl and she love me long time wine it wine it she love me long time oh yeah very long time back up back up back up and wine am back up back up and wine am girl just back up back up back up and wine am oh yeah very long time back up back up and wine am girl oh tell me i need to know where do you wanna go cause if youre down ill take it slow make you lose control where where where where where where where oh yeah very long time where where where back up back up and wine am girl where where where wherecause if youre down back up back up and cause if youre down back up back up and cause if youre down back up back up and i need a one dance where where where got a hennessy in my hand where where where where one more timefore i go where higher powers taking a hold on me where where where where i need a one dance got a hennessy in my hand one more timefore i go higher powers taking a hold on me how do you spell hennessy i put two n s and two s es is it like that hen henn henn its definitely not showing up i know hennessy has two s es for sure so im gonna take out one of the n s\n",
            "--------------------------------------------------\n",
            "Song: One Dance (Year: 2016, Rank: 3)\n",
            "Original: Baby, I like your style\n",
            "\n",
            "Grips on your waist, front way, back way\n",
            "You know that I don't play\n",
            "Streets not safe but I never run away\n",
            "Even when I'm away\n",
            "Oti, oti\n",
            "There's never much love when we go OT\n",
            "I pray to make it back in one piece\n",
            "I pray, I pray\n",
            "\n",
            "That's why I need a one dance\n",
            "Got a Hennessy in my hand\n",
            "One more time 'fore I go\n",
            "Higher powers taking a hold on me\n",
            "I need a one dance\n",
            "Got a Hennessy in my hand\n",
            "One more time 'fore I go\n",
            "Higher powers taking a hold on me\n",
            "Baby, I like your style\n",
            "You might also like\n",
            "Strength and guidance\n",
            "All that I'm wishing for my friends\n",
            "Nobody makes it from my ends\n",
            "I had to bust up the silence\n",
            "You know you gotta stick by me\n",
            "Soon as you see the text, reply me\n",
            "I don't wanna spend time fighting\n",
            "We've got no time, and that's why\n",
            "\n",
            "I need a one dance\n",
            "Got a Hennessy in my hand\n",
            "One more time 'fore I go\n",
            "Higher powers taking a hold on me\n",
            "I need a one dance\n",
            "Got a Hennessy in my hand\n",
            "One more time 'fore I go\n",
            "Higher powers taking a hold on me\n",
            "\n",
            "Got a pretty girl and she love me long time\n",
            "Wine it, wine it, she love me long time\n",
            "Oh, yeah, very long time\n",
            "Back up, back up, back up, and wine am\n",
            "Back up, back up, and wine am, girl, just\n",
            "Back up, back up, back up, and wine am\n",
            "Oh, yeah, very long time\n",
            "Back, up, back up and wine am, girl\n",
            "Oh, tell me, I need to know\n",
            "Where do you wanna go?\n",
            "'Cause if you're down, I'll take it slow\n",
            "Make you lose control\n",
            "\n",
            "Where, where, where\n",
            "Where, where, where, where (Oh, yeah, very long time)\n",
            "Where, where, where (Back up, back up, and wine am, girl)\n",
            "Where, where, where, where\n",
            "'Cause if you're down (Back up, back up, and–)\n",
            "'Cause if you're down (Back up, back up, and–)\n",
            "'Cause if you're down (Back up, back up, and–)\n",
            "\n",
            "I need a one dance (Where, where, where)\n",
            "Got a Hennessy in my hand (Where, where, where, where)\n",
            "One more time 'fore I go (Where)\n",
            "Higher powers taking a hold on me (Where, where, where, where)\n",
            "I need a one dance\n",
            "Got a Hennessy in my hand\n",
            "One more time 'fore I go\n",
            "Higher powers taking a hold on me\n",
            "How do you spell \"Hennessy?\"\n",
            "I put two \"N\"s and two \"S\"es, is it like that? Hen... Henn... Henn...\n",
            "It's definitely not showing up\n",
            "I know \"Hennessy\" has two \"S\"es for sure, so I'm gonna take out one of the \"N\"s234Embed\n",
            "Cleaned: baby i like your style grips on your waist front way back way you know that i dont play streets not safe but i never run away even when im away oti oti theres never much love when we go ot i pray to make it back in one piece i pray i pray thats why i need a one dance got a hennessy in my hand one more timefore i go higher powers taking a hold on me i need a one dance got a hennessy in my hand one more timefore i go higher powers taking a hold on me baby i like your style you might also like strength and guidance all that im wishing for my friends nobody makes it from my ends i had to bust up the silence you know you gotta stick by me soon as you see the text reply me i dont wanna spend time fighting weve got no time and thats why i need a one dance got a hennessy in my hand one more timefore i go higher powers taking a hold on me i need a one dance got a hennessy in my hand one more timefore i go higher powers taking a hold on me got a pretty girl and she love me long time wine it wine it she love me long time oh yeah very long time back up back up back up and wine am back up back up and wine am girl just back up back up back up and wine am oh yeah very long time back up back up and wine am girl oh tell me i need to know where do you wanna go cause if youre down ill take it slow make you lose control where where where where where where where oh yeah very long time where where where back up back up and wine am girl where where where wherecause if youre down back up back up and cause if youre down back up back up and cause if youre down back up back up and i need a one dance where where where got a hennessy in my hand where where where where one more timefore i go where higher powers taking a hold on me where where where where i need a one dance got a hennessy in my hand one more timefore i go higher powers taking a hold on me how do you spell hennessy i put two n s and two s es is it like that hen henn henn its definitely not showing up i know hennessy has two s es for sure so im gonna take out one of the n s\n",
            "--------------------------------------------------\n",
            "Song: One Dance (Year: 2016, Rank: 3)\n",
            "Original: Baby, I like your style\n",
            "\n",
            "Grips on your waist, front way, back way\n",
            "You know that I don't play\n",
            "Streets not safe but I never run away\n",
            "Even when I'm away\n",
            "Oti, oti\n",
            "There's never much love when we go OT\n",
            "I pray to make it back in one piece\n",
            "I pray, I pray\n",
            "\n",
            "That's why I need a one dance\n",
            "Got a Hennessy in my hand\n",
            "One more time 'fore I go\n",
            "Higher powers taking a hold on me\n",
            "I need a one dance\n",
            "Got a Hennessy in my hand\n",
            "One more time 'fore I go\n",
            "Higher powers taking a hold on me\n",
            "Baby, I like your style\n",
            "You might also like\n",
            "Strength and guidance\n",
            "All that I'm wishing for my friends\n",
            "Nobody makes it from my ends\n",
            "I had to bust up the silence\n",
            "You know you gotta stick by me\n",
            "Soon as you see the text, reply me\n",
            "I don't wanna spend time fighting\n",
            "We've got no time, and that's why\n",
            "\n",
            "I need a one dance\n",
            "Got a Hennessy in my hand\n",
            "One more time 'fore I go\n",
            "Higher powers taking a hold on me\n",
            "I need a one dance\n",
            "Got a Hennessy in my hand\n",
            "One more time 'fore I go\n",
            "Higher powers taking a hold on me\n",
            "\n",
            "Got a pretty girl and she love me long time\n",
            "Wine it, wine it, she love me long time\n",
            "Oh, yeah, very long time\n",
            "Back up, back up, back up, and wine am\n",
            "Back up, back up, and wine am, girl, just\n",
            "Back up, back up, back up, and wine am\n",
            "Oh, yeah, very long time\n",
            "Back, up, back up and wine am, girl\n",
            "Oh, tell me, I need to know\n",
            "Where do you wanna go?\n",
            "'Cause if you're down, I'll take it slow\n",
            "Make you lose control\n",
            "\n",
            "Where, where, where\n",
            "Where, where, where, where (Oh, yeah, very long time)\n",
            "Where, where, where (Back up, back up, and wine am, girl)\n",
            "Where, where, where, where\n",
            "'Cause if you're down (Back up, back up, and–)\n",
            "'Cause if you're down (Back up, back up, and–)\n",
            "'Cause if you're down (Back up, back up, and–)\n",
            "\n",
            "I need a one dance (Where, where, where)\n",
            "Got a Hennessy in my hand (Where, where, where, where)\n",
            "One more time 'fore I go (Where)\n",
            "Higher powers taking a hold on me (Where, where, where, where)\n",
            "I need a one dance\n",
            "Got a Hennessy in my hand\n",
            "One more time 'fore I go\n",
            "Higher powers taking a hold on me\n",
            "How do you spell \"Hennessy?\"\n",
            "I put two \"N\"s and two \"S\"es, is it like that? Hen... Henn... Henn...\n",
            "It's definitely not showing up\n",
            "I know \"Hennessy\" has two \"S\"es for sure, so I'm gonna take out one of the \"N\"s234Embed\n",
            "Cleaned: baby i like your style grips on your waist front way back way you know that i dont play streets not safe but i never run away even when im away oti oti theres never much love when we go ot i pray to make it back in one piece i pray i pray thats why i need a one dance got a hennessy in my hand one more timefore i go higher powers taking a hold on me i need a one dance got a hennessy in my hand one more timefore i go higher powers taking a hold on me baby i like your style you might also like strength and guidance all that im wishing for my friends nobody makes it from my ends i had to bust up the silence you know you gotta stick by me soon as you see the text reply me i dont wanna spend time fighting weve got no time and thats why i need a one dance got a hennessy in my hand one more timefore i go higher powers taking a hold on me i need a one dance got a hennessy in my hand one more timefore i go higher powers taking a hold on me got a pretty girl and she love me long time wine it wine it she love me long time oh yeah very long time back up back up back up and wine am back up back up and wine am girl just back up back up back up and wine am oh yeah very long time back up back up and wine am girl oh tell me i need to know where do you wanna go cause if youre down ill take it slow make you lose control where where where where where where where oh yeah very long time where where where back up back up and wine am girl where where where wherecause if youre down back up back up and cause if youre down back up back up and cause if youre down back up back up and i need a one dance where where where got a hennessy in my hand where where where where one more timefore i go where higher powers taking a hold on me where where where where i need a one dance got a hennessy in my hand one more timefore i go higher powers taking a hold on me how do you spell hennessy i put two n s and two s es is it like that hen henn henn its definitely not showing up i know hennessy has two s es for sure so im gonna take out one of the n s\n",
            "--------------------------------------------------\n"
          ]
        }
      ],
      "source": [
        "print(\"Combined Cleaned DataFrame (First 5 rows):\")\n",
        "print(df_combined.head())\n",
        "print(\"\\nOriginal vs Cleaned Lyrics (First 5 rows from 2016-2024 data):\")\n",
        "for i in range(min(5, len(df_spotify_filtered))):\n",
        "    print(f\"Song: {df_spotify_filtered['song'].iloc[i]} (Year: {df_spotify_filtered['year'].iloc[i]}, Rank: {df_spotify_filtered['ranking'].iloc[i]})\")\n",
        "    print(f\"Original: {df_spotify_filtered['lyrics'].iloc[i]}\")\n",
        "    print(f\"Cleaned: {df_spotify_filtered['lyrics_cleaned'].iloc[i]}\")\n",
        "    print(\"-\" * 50)"
      ]
    },
    {
      "cell_type": "markdown",
      "metadata": {
        "id": "L-DuHoigU5YN"
      },
      "source": [
        "Save the combined cleaned data to a new CSV file"
      ]
    },
    {
      "cell_type": "code",
      "execution_count": 13,
      "metadata": {
        "colab": {
          "base_uri": "https://localhost:8080/"
        },
        "id": "pl7z-1IaU5wp",
        "outputId": "46e05c41-18e4-4816-b3af-04bec7680d78"
      },
      "outputs": [
        {
          "name": "stdout",
          "output_type": "stream",
          "text": [
            "Combined cleaned data saved to 'billboard_1964_2024_lyrics_cleaned.csv'\n",
            "Number of unique records: 6280\n"
          ]
        }
      ],
      "source": [
        "df_combined.to_csv('billboard_1964_2024_lyrics_cleaned.csv', index=False)\n",
        "print(\"Combined cleaned data saved to 'billboard_1964_2024_lyrics_cleaned.csv'\")\n",
        "print(f\"Number of unique records: {len(df_combined)}\")"
      ]
    },
    {
      "cell_type": "markdown",
      "metadata": {},
      "source": [
        "A. Basic Statistical Features\n",
        "Length of lyrics (word count, character count)\n",
        "\n",
        "Unique word count (lexical richness)\n",
        "\n",
        "Average word length\n",
        "\n",
        "Stopword ratio (percentage of common words like \"the\", \"and\")"
      ]
    },
    {
      "cell_type": "code",
      "execution_count": 14,
      "metadata": {},
      "outputs": [
        {
          "name": "stdout",
          "output_type": "stream",
          "text": [
            "                                       song                         artist  \\\n",
            "0                               wooly bully  sam the sham and the pharaohs   \n",
            "1  i cant help myself sugar pie honey bunch                      four tops   \n",
            "2                i cant get no satisfaction             the rolling stones   \n",
            "3                       you were on my mind                        we five   \n",
            "4              youve lost that lovin feelin         the righteous brothers   \n",
            "\n",
            "   year  ranking                                     lyrics_cleaned  \\\n",
            "0  1965        1  sam the sham miscellaneous wooly bully wooly b...   \n",
            "1  1965        2   sugar pie honey bunch you know that i love yo...   \n",
            "2  1965        3                                                      \n",
            "3  1965        4   when i woke up this morning you were on my mi...   \n",
            "4  1965        5   you never close your eyes anymore when i kiss...   \n",
            "\n",
            "   word_count  char_count  \n",
            "0         125         662  \n",
            "1         204         995  \n",
            "2           0           2  \n",
            "3         152         692  \n",
            "4         232        1173  \n"
          ]
        }
      ],
      "source": [
        "#Length of lyrics (word count, character count) for each song\n",
        "df_combined['word_count'] = df_combined['lyrics_cleaned'].apply(lambda x: len(str(x).split()))\n",
        "df_combined['char_count'] = df_combined['lyrics_cleaned'].apply(lambda x: len(str(x)))\n",
        "print(df_combined.head())\n",
        "\n"
      ]
    },
    {
      "cell_type": "code",
      "execution_count": 15,
      "metadata": {},
      "outputs": [],
      "source": [
        "#Unique word count (lexical richness)\n",
        "from collections import Counter"
      ]
    },
    {
      "cell_type": "code",
      "execution_count": 16,
      "metadata": {},
      "outputs": [
        {
          "name": "stdout",
          "output_type": "stream",
          "text": [
            "0    [miscellaneous, pharaohs, domingo, samudio, un...\n",
            "1    [elsein, out, life, go, leaving, just, picture...\n",
            "2                                                   []\n",
            "3    [so, went, the, corner, came, home, again, mii...\n",
            "4    [never, close, anymore, kiss, lips, tenderness...\n",
            "Name: unique_words, dtype: object\n"
          ]
        }
      ],
      "source": [
        "#df_combined['unique_words'] = df_combined['lyrics_cleaned'].apply(lambda x: Counter(str(x).split()))\n",
        "df_combined['unique_words'] = df_combined['lyrics_cleaned'].apply(\n",
        "    lambda x: [word for word, count in Counter(str(x).split()).items() if count == 1]\n",
        ")\n",
        "print(df_combined['unique_words'].head())"
      ]
    },
    {
      "cell_type": "code",
      "execution_count": 17,
      "metadata": {},
      "outputs": [
        {
          "name": "stderr",
          "output_type": "stream",
          "text": [
            "C:\\Users\\Dell\\AppData\\Local\\Packages\\PythonSoftwareFoundation.Python.3.11_qbz5n2kfra8p0\\LocalCache\\local-packages\\Python311\\site-packages\\numpy\\_core\\fromnumeric.py:3860: RuntimeWarning: Mean of empty slice.\n",
            "  return _methods._mean(a, axis=axis, dtype=dtype,\n",
            "C:\\Users\\Dell\\AppData\\Local\\Packages\\PythonSoftwareFoundation.Python.3.11_qbz5n2kfra8p0\\LocalCache\\local-packages\\Python311\\site-packages\\numpy\\_core\\_methods.py:145: RuntimeWarning: invalid value encountered in scalar divide\n",
            "  ret = ret.dtype.type(ret / rcount)\n"
          ]
        },
        {
          "name": "stdout",
          "output_type": "stream",
          "text": [
            "0    4.280000\n",
            "1    3.872549\n",
            "2         NaN\n",
            "3    3.546053\n",
            "4    4.051724\n",
            "5    4.573222\n",
            "6    3.780702\n",
            "7    3.888372\n",
            "8    3.979730\n",
            "9    3.450980\n",
            "Name: avg_word_length, dtype: float64\n"
          ]
        }
      ],
      "source": [
        "#Average word length\n",
        "import numpy as np\n",
        "#df_combined['avg_word_length'] = np.mean(df_combined['strings'].apply(lambda x: len([words for words in x.split(\" \") if isinstance(x, str)])))\n",
        "df_combined['avg_word_length'] = df_combined['lyrics_cleaned'].apply(\n",
        "    lambda x: np.mean([len(word) for word in str(x).split()]) if x else 0\n",
        ")\n",
        "print(df_combined['avg_word_length'].head(10))"
      ]
    },
    {
      "cell_type": "code",
      "execution_count": 18,
      "metadata": {},
      "outputs": [
        {
          "name": "stderr",
          "output_type": "stream",
          "text": [
            "[nltk_data] Downloading package stopwords to\n",
            "[nltk_data]     C:\\Users\\Dell\\AppData\\Roaming\\nltk_data...\n",
            "[nltk_data]   Package stopwords is already up-to-date!\n"
          ]
        },
        {
          "name": "stdout",
          "output_type": "stream",
          "text": [
            "0    0.25\n",
            "1    0.48\n",
            "2    0.00\n",
            "3    0.53\n",
            "4    0.40\n",
            "Name: stopword_ratio, dtype: float64\n"
          ]
        }
      ],
      "source": [
        "#Stopword ratio (percentage of common words like \"the\", \"and\")\n",
        "import nltk\n",
        "from nltk.corpus import stopwords\n",
        "\n",
        "# Download stopwords if not already downloaded\n",
        "nltk.download('stopwords')\n",
        "stop_words = set(stopwords.words('english'))\n",
        "\n",
        "df_combined['stopword_ratio'] = df_combined['lyrics_cleaned'].apply(\n",
        "    lambda x: np.round(\n",
        "        sum(1 for word in str(x).split() if word.lower() in stop_words) / max(len(str(x).split()), 1),\n",
        "        2  # Round to 2 decimal places\n",
        "    )\n",
        ")\n",
        "\n",
        "print(df_combined['stopword_ratio'].head())"
      ]
    },
    {
      "cell_type": "markdown",
      "metadata": {},
      "source": [
        "B. Linguistic & Sentiment Features\n",
        "Sentiment Analysis (positive/negative sentiment score)\n",
        "\n",
        "Emotion detection (anger, joy, sadness, etc.)\n",
        "\n",
        "Lexical diversity (ratio of unique words to total words)\n"
      ]
    },
    {
      "cell_type": "code",
      "execution_count": 19,
      "metadata": {},
      "outputs": [
        {
          "name": "stderr",
          "output_type": "stream",
          "text": [
            "[nltk_data] Downloading package vader_lexicon to\n",
            "[nltk_data]     C:\\Users\\Dell\\AppData\\Roaming\\nltk_data...\n",
            "[nltk_data]   Package vader_lexicon is already up-to-date!\n"
          ]
        },
        {
          "name": "stdout",
          "output_type": "stream",
          "text": [
            "                                      lyrics_cleaned  pos_ratio  neg_ratio\n",
            "0  sam the sham miscellaneous wooly bully wooly b...   0.020000   0.352000\n",
            "1   sugar pie honey bunch you know that i love yo...   0.137000   0.159000\n",
            "2                                                      0.000000   0.000000\n",
            "3   when i woke up this morning you were on my mi...   0.060939   0.185814\n",
            "4   you never close your eyes anymore when i kiss...   0.266000   0.085000\n"
          ]
        }
      ],
      "source": [
        "#Sentiment Analysis (positive/negative sentiment score)\n",
        "from nltk.sentiment import SentimentIntensityAnalyzer\n",
        "#Sentiment Analysis (positive/negative sentiment score)\n",
        "nltk.download('vader_lexicon')\n",
        "\n",
        "# Initialize the sentiment analyzer\n",
        "sia = SentimentIntensityAnalyzer()\n",
        "\n",
        "# Function to calculate sentiment ratios\n",
        "def sentiment_ratios(text):\n",
        "    scores = sia.polarity_scores(str(text))  # Get sentiment scores\n",
        "    total = scores['pos'] + scores['neg'] + scores['neu']  # Total sentiment score sum\n",
        "    \n",
        "    if total == 0:  # Avoid division by zero\n",
        "        return (0, 0)\n",
        "    \n",
        "    pos_ratio = scores['pos'] / total  # Positive sentiment ratio\n",
        "    neg_ratio = scores['neg'] / total  # Negative sentiment ratio\n",
        "    \n",
        "    return pos_ratio, neg_ratio\n",
        "\n",
        "# Apply function to each row\n",
        "df_combined[['pos_ratio', 'neg_ratio']] = df_combined['lyrics_cleaned'].apply(\n",
        "    lambda x: pd.Series(sentiment_ratios(x))\n",
        ")\n",
        "\n",
        "print(df_combined[['lyrics_cleaned', 'pos_ratio', 'neg_ratio']].head())\n"
      ]
    },
    {
      "cell_type": "code",
      "execution_count": 20,
      "metadata": {},
      "outputs": [
        {
          "name": "stdout",
          "output_type": "stream",
          "text": [
            "Index(['song', 'artist', 'year', 'ranking', 'lyrics_cleaned', 'word_count',\n",
            "       'char_count', 'unique_words', 'avg_word_length', 'stopword_ratio',\n",
            "       'pos_ratio', 'neg_ratio'],\n",
            "      dtype='object')\n"
          ]
        }
      ],
      "source": [
        "print(df_combined.columns)\n"
      ]
    },
    {
      "cell_type": "code",
      "execution_count": null,
      "metadata": {},
      "outputs": [],
      "source": [
        "import pandas as pd\n",
        "import re\n",
        "\n",
        "df = pd.read_csv('song_mycs_scores_with_lyrics.csv')\n",
        "\n",
        "df['lyrics'] = df['lyrics'].fillna('')\n",
        "\n",
        "def clean_lyrics(text):\n",
        "    if not isinstance(text, str):\n",
        "        return \"\"\n",
        "    \n",
        "    text = re.sub(r'^.*?(?=\\[Intro|\\[Verse|\\[Chorus|\\[Bridge|\\[Pre-Chorus|\\[Post-Chorus|\\[Outro])', '', text, flags=re.DOTALL)\n",
        "\n",
        "    text = re.sub(r'(\\[[^\\]]+\\])', r'\\n\\1\\n', text)\n",
        "\n",
        "    text = re.sub(r'(?<=[.!?])\\s+(?=\\w)', r'\\n', text)\n",
        "\n",
        "    text = re.sub(r'\\n{2,}', '\\n\\n', text)  # prevent excessive blank lines\n",
        "    text = re.sub(r'[ \\t]+', ' ', text)     # collapse extra spaces\n",
        "    return text.strip()\n",
        "\n",
        "df['clean_lyrics'] = df['lyrics'].apply(clean_lyrics)\n",
        "\n",
        "for idx, row in df.head(3).iterrows():  # you can increase the number if you want\n",
        "    print(f\"\\n--- Cleaned Lyrics for Song #{idx + 1} ---\")\n",
        "    print(row['clean_lyrics'])\n",
        "    print(\"\\n\" + \"-\" * 50)\n"
      ]
    }
  ],
  "metadata": {
    "colab": {
      "include_colab_link": true,
      "provenance": []
    },
    "kernelspec": {
      "display_name": "Python 3",
      "name": "python3"
    },
    "language_info": {
      "codemirror_mode": {
        "name": "ipython",
        "version": 3
      },
      "file_extension": ".py",
      "mimetype": "text/x-python",
      "name": "python",
      "nbconvert_exporter": "python",
      "pygments_lexer": "ipython3",
      "version": "3.11.9"
    }
  },
  "nbformat": 4,
  "nbformat_minor": 0
}
